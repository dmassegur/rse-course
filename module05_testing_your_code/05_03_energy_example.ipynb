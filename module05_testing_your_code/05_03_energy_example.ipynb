{
 "cells": [
  {
   "cell_type": "markdown",
   "metadata": {},
   "source": [
    "# Classroom exercise: energy calculation\n",
    "\n",
    "## Diffusion model in 1D\n",
    "\n",
    "Description: A one-dimensional diffusion model. (Could be a gas of particles, or a bunch of crowded people in a corridor, or animals in a valley habitat...)\n",
    "\n",
    "- Agents are on a 1d axis\n",
    "- Agents do not want to be where there are other agents\n",
    "- This is represented as an 'energy': the higher the energy, the more unhappy the agents.\n",
    "\n",
    "Implementation:\n",
    "\n",
    "- Given a vector $n$ of positive integers, and of arbitrary length\n",
    "- Compute the energy, $E(n) = \\sum_i n_i(n_i - 1)$\n",
    "- Later, we will have the likelyhood of an agent moving depend on the change in energy."
   ]
  },
  {
   "cell_type": "code",
   "execution_count": 2,
   "metadata": {},
   "outputs": [
    {
     "data": {
      "text/plain": [
       "Text(0.5, 0, 'Position $i$')"
      ]
     },
     "execution_count": 2,
     "metadata": {},
     "output_type": "execute_result"
    },
    {
     "data": {
      "image/png": "[encoded data removed]",
      "text/plain": [
       "<Figure size 432x288 with 1 Axes>"
      ]
     },
     "metadata": {
      "needs_background": "light"
     },
     "output_type": "display_data"
    }
   ],
   "source": [
    "%matplotlib inline\n",
    "import numpy as np\n",
    "from matplotlib import pyplot as plt\n",
    "\n",
    "density = np.array([0, 0, 3, 5, 8, 4, 2, 1])\n",
    "fig, ax = plt.subplots()\n",
    "ax.bar(np.arange(len(density)) - 0.5, density)\n",
    "ax.xrange = [-0.5, len(density) - 0.5]\n",
    "ax.set_ylabel(\"Particle count $n_i$\")\n",
    "ax.set_xlabel(\"Position $i$\")"
   ]
  },
  {
   "cell_type": "markdown",
   "metadata": {},
   "source": [
    "Here, the total energy due to position 2 is $3 (3-1)=6$, and due to column 7 is $1 (1-1)=0$. We need to sum these to get the\n",
    "total energy."
   ]
  },
  {
   "cell_type": "markdown",
   "metadata": {},
   "source": [
    "## Starting point\n",
    "\n",
    "Create a Python module:"
   ]
  },
  {
   "cell_type": "code",
   "execution_count": null,
   "metadata": {},
   "outputs": [],
   "source": [
    "%%bash\n",
    "rm -rf diffusion\n",
    "mkdir diffusion\n",
    "install -m 644 /dev/null diffusion/__init__.py"
   ]
  },
  {
   "cell_type": "markdown",
   "metadata": {},
   "source": [
    "**Windows:** You will need to run the following instead\n",
    "    \n",
    "```cmd\n",
    "%%cmd\n",
    "rmdir /s diffusion\n",
    "mkdir diffusion\n",
    "type nul > diffusion/__init__.py\n",
    "```\n",
    "\n",
    "**NB.** If you are using the Windows command prompt, you will also have to replace all subsequent `%%bash` directives with `%%cmd` "
   ]
  },
  {
   "cell_type": "code",
   "execution_count": 1,
   "metadata": {},
   "outputs": [
    {
     "name": "stdout",
     "output_type": "stream",
     "text": [
      "Microsoft Windows [Version 10.0.19042.1466]\r\n",
      "(c) Microsoft Corporation. All rights reserved.\r\n",
      "\r\n",
      "(rse_course_2022) C:\\Users\\dmassegur\\Projects\\P001 - RSE Course\\Materials\\rse-course\\module05_testing_your_code>rmdir /s diffusion\n",
      "diffusion, Are you sure (Y/N)? mkdir diffusion\n",
      "diffusion, Are you sure (Y/N)? type nul > diffusion/__init__.py\n",
      "diffusion, Are you sure (Y/N)? \r\n",
      "\r\n",
      "(rse_course_2022) C:\\Users\\dmassegur\\Projects\\P001 - RSE Course\\Materials\\rse-course\\module05_testing_your_code>"
     ]
    }
   ],
   "source": [
    "%%cmd\n",
    "rmdir /s diffusion\n",
    "mkdir diffusion\n",
    "type nul > diffusion/__init__.py"
   ]
  },
  {
   "cell_type": "markdown",
   "metadata": {},
   "source": [
    "* Implementation file: diffusion_model.py"
   ]
  },
  {
   "cell_type": "code",
   "execution_count": 3,
   "metadata": {},
   "outputs": [],
   "source": [
    "import numpy as np"
   ]
  },
  {
   "cell_type": "code",
   "execution_count": 4,
   "metadata": {
    "attributes": {
     "classes": [
      " python"
     ],
     "id": ""
    }
   },
   "outputs": [
    {
     "name": "stdout",
     "output_type": "stream",
     "text": [
      "Overwriting diffusion/model.py\n"
     ]
    }
   ],
   "source": [
    "%%writefile diffusion/model.py\n",
    "import numpy as np\n",
    "\n",
    "def energy(density, coeff=1.0):\n",
    "    \"\"\"Energy associated with the diffusion model\n",
    "\n",
    "    Parameters\n",
    "    ----------\n",
    "\n",
    "    density: array of positive integers\n",
    "        Number of particles at each position i in the array\n",
    "    coeff: float\n",
    "        Diffusion coefficient.\n",
    "    \"\"\"\n",
    "        \n",
    "    a = np.zeros((0,0))\n",
    "    print(density)\n",
    "    nrg = density * (density - 1)\n",
    "    nrg = sum(nrg)\n",
    "    \n",
    "    return nrg"
   ]
  },
  {
   "cell_type": "code",
   "execution_count": null,
   "metadata": {},
   "outputs": [],
   "source": [
    "%%cmd\n",
    "dir\n",
    "dir diffusion"
   ]
  },
  {
   "cell_type": "code",
   "execution_count": 5,
   "metadata": {},
   "outputs": [
    {
     "name": "stdout",
     "output_type": "stream",
     "text": [
      "[0 0 3 5 8 4 2 1]\n",
      "<class 'numpy.ndarray'>\n",
      "[0 0 3 5 8 4 2 1]\n"
     ]
    }
   ],
   "source": [
    "from diffusion.model import energy\n",
    "import numpy as np\n",
    "\n",
    "print(density)\n",
    "print(type(density))\n",
    "en = energy(density)"
   ]
  },
  {
   "cell_type": "markdown",
   "metadata": {},
   "source": [
    "* Testing file: test_diffusion_model.py"
   ]
  },
  {
   "cell_type": "code",
   "execution_count": null,
   "metadata": {
    "attributes": {
     "classes": [
      " python"
     ],
     "id": ""
    }
   },
   "outputs": [],
   "source": [
    "%%writefile diffusion/test_model.py\n",
    "from .model import energy\n",
    "\n",
    "\n",
    "def test_energy():\n",
    "    \"\"\"Optional description for nose reporting.\"\"\"\n",
    "    # Test something\n",
    "    assert density.all()"
   ]
  },
  {
   "cell_type": "markdown",
   "metadata": {},
   "source": [
    "Invoke the tests:"
   ]
  },
  {
   "cell_type": "code",
   "execution_count": null,
   "metadata": {},
   "outputs": [],
   "source": [
    "%%bash\n",
    "cd diffusion\n",
    "py.test"
   ]
  },
  {
   "cell_type": "code",
   "execution_count": null,
   "metadata": {},
   "outputs": [],
   "source": [
    "%%cmd\n",
    "cd diffusion\n",
    "py.test"
   ]
  },
  {
   "cell_type": "markdown",
   "metadata": {},
   "source": [
    "Now, write your code (in `model.py`), and tests (in `test_model.py`), testing as you do."
   ]
  },
  {
   "cell_type": "markdown",
   "metadata": {},
   "source": [
    "## Solution\n",
    "\n",
    "Don't look until after you've tried!\n",
    "\n",
    "In the spirit of test-driven development let's first consider our tests."
   ]
  },
  {
   "cell_type": "code",
   "execution_count": null,
   "metadata": {},
   "outputs": [],
   "source": [
    "%%writefile diffusion/test_model.py\n",
    "\"\"\"Unit tests for a diffusion model.\"\"\"\n",
    "\n",
    "from pytest import raises\n",
    "from .model import energy\n",
    "\n",
    "\n",
    "def test_energy_fails_on_non_integer_density():\n",
    "    with raises(TypeError) as exception:\n",
    "        energy([1.0, 2, 3])\n",
    "\n",
    "\n",
    "def test_energy_fails_on_negative_density():\n",
    "    with raises(ValueError) as exception:\n",
    "        energy([-1, 2, 3])\n",
    "\n",
    "\n",
    "def test_energy_fails_ndimensional_density():\n",
    "    with raises(ValueError) as exception:\n",
    "        energy([[1, 2, 3], [3, 4, 5]])\n",
    "\n",
    "\n",
    "def test_zero_energy_cases():\n",
    "    # Zero energy at zero density\n",
    "    densities = [[], [0], [0, 0, 0]]\n",
    "    for density in densities:\n",
    "        assert energy(density) == 0\n",
    "\n",
    "\n",
    "def test_derivative():\n",
    "    from numpy.random import randint\n",
    "\n",
    "    # Loop over vectors of different sizes (but not empty)\n",
    "    for vector_size in randint(1, 1000, size=30):\n",
    "\n",
    "        # Create random density of size N\n",
    "        density = randint(50, size=vector_size)\n",
    "\n",
    "        # will do derivative at this index\n",
    "        element_index = randint(vector_size)\n",
    "\n",
    "        # modified densities\n",
    "        density_plus_one = density.copy()\n",
    "        density_plus_one[element_index] += 1\n",
    "\n",
    "        # Compute and check result\n",
    "        # d(n^2-1)/dn = 2n\n",
    "        expected = 2.0 * density[element_index] if density[element_index] > 0 else 0\n",
    "        actual = energy(density_plus_one) - energy(density)\n",
    "        assert expected == actual\n",
    "\n",
    "\n",
    "def test_derivative_no_self_energy():\n",
    "    \"\"\"If particle is alone, then its participation to energy is zero.\"\"\"\n",
    "    from numpy import array\n",
    "\n",
    "    density = array([1, 0, 1, 10, 15, 0])\n",
    "    density_plus_one = density.copy()\n",
    "    density[1] += 1\n",
    "\n",
    "    expected = 0\n",
    "    actual = energy(density_plus_one) - energy(density)\n",
    "    assert expected == actual"
   ]
  },
  {
   "cell_type": "markdown",
   "metadata": {},
   "source": [
    "Now let's write an implementation that passes the tests.\n"
   ]
  },
  {
   "cell_type": "code",
   "execution_count": null,
   "metadata": {},
   "outputs": [],
   "source": [
    "%%writefile diffusion/model.py\n",
    "\"\"\"Simplistic 1-dimensional diffusion model.\"\"\"\n",
    "from numpy import array, any, sum\n",
    "\n",
    "\n",
    "def energy(density):\n",
    "    \"\"\"Energy associated with the diffusion model\n",
    "    :Parameters:\n",
    "      density: array of positive integers\n",
    "         Number of particles at each position i in the array/geometry\n",
    "    \"\"\"\n",
    "\n",
    "    # Make sure input is an numpy array\n",
    "    density = array(density)\n",
    "\n",
    "    # ...of the right kind (integer). Unless it is zero length,\n",
    "    #    in which case type does not matter.\n",
    "\n",
    "    if density.dtype.kind != \"i\" and len(density) > 0:\n",
    "        raise TypeError(\"Density should be a array of *integers*.\")\n",
    "    # and the right values (positive or null)\n",
    "    if any(density < 0):\n",
    "        raise ValueError(\"Density should be an array of *positive* integers.\")\n",
    "    if density.ndim != 1:\n",
    "        raise ValueError(\n",
    "            \"Density should be an a *1-dimensional*\" + \"array of positive integers.\"\n",
    "        )\n",
    "\n",
    "    return sum(density * (density - 1))"
   ]
  },
  {
   "cell_type": "code",
   "execution_count": null,
   "metadata": {},
   "outputs": [],
   "source": [
    "%%cmd\n",
    "cd diffusion\n",
    "py.test"
   ]
  },
  {
   "cell_type": "markdown",
   "metadata": {},
   "source": [
    "## Coverage\n",
    "\n",
    "With py.test, you can use the [\"pytest-cov\" plugin](https://github.com/pytest-dev/pytest-cov) to measure test coverage"
   ]
  },
  {
   "cell_type": "code",
   "execution_count": null,
   "metadata": {},
   "outputs": [],
   "source": [
    "!pip install pytest-cov"
   ]
  },
  {
   "cell_type": "code",
   "execution_count": null,
   "metadata": {},
   "outputs": [],
   "source": [
    "%%cmd\n",
    "cd diffusion\n",
    "py.test --cov"
   ]
  },
  {
   "cell_type": "markdown",
   "metadata": {},
   "source": [
    "Or an html report:"
   ]
  },
  {
   "cell_type": "code",
   "execution_count": null,
   "metadata": {
    "scrolled": true
   },
   "outputs": [],
   "source": [
    "%%cmd   #%%bash\n",
    "#%%cmd (windows)\n",
    "cd diffusion\n",
    "py.test --cov --cov-report html"
   ]
  },
  {
   "cell_type": "markdown",
   "metadata": {},
   "source": [
    "Look at the [coverage results](./diffusion/htmlcov/index.html)"
   ]
  }
 ],
 "metadata": {
  "jekyll": {
   "display_name": "Energy Example"
  },
  "kernelspec": {
   "display_name": "Python 3 (ipykernel)",
   "language": "python",
   "name": "python3"
  },
  "language_info": {
   "codemirror_mode": {
    "name": "ipython",
    "version": 3
   },
   "file_extension": ".py",
   "mimetype": "text/x-python",
   "name": "python",
   "nbconvert_exporter": "python",
   "pygments_lexer": "ipython3",
   "version": "3.9.7"
  }
 },
 "nbformat": 4,
 "nbformat_minor": 1
}
