{
 "cells": [
  {
   "cell_type": "markdown",
   "metadata": {},
   "source": [
    "# Argparse"
   ]
  },
  {
   "cell_type": "markdown",
   "metadata": {},
   "source": [
    "\n",
    "This is the standard library for building programs with a command-line interface.\n",
    "\n",
    "\n",
    "\n",
    "\n",
    "\n"
   ]
  },
  {
   "cell_type": "markdown",
   "metadata": {},
   "source": [
    "the second line tells you what interpreter to use (and environment)\n",
    "\n",
    "the __main__ tells we intend to write it as a script"
   ]
  },
  {
   "cell_type": "code",
   "execution_count": 2,
   "metadata": {},
   "outputs": [
    {
     "name": "stdout",
     "output_type": "stream",
     "text": [
      "Overwriting greeter.py\n"
     ]
    }
   ],
   "source": [
    "%%writefile greeter.py\n",
    "#!/usr/bin/env python\n",
    "from argparse import ArgumentParser\n",
    "\n",
    "if __name__ == \"__main__\":\n",
    "    parser = ArgumentParser(description=\"Generate appropriate greetings\")\n",
    "    parser.add_argument(\"--title\", \"-t\")\n",
    "    parser.add_argument(\"--polite\", \"-p\", action=\"store_true\")\n",
    "    parser.add_argument(\"personal\")\n",
    "    parser.add_argument(\"family\")\n",
    "    arguments = parser.parse_args()\n",
    "\n",
    "    greeting = \"How do you do, \" if arguments.polite else \"Hey, \"\n",
    "    if arguments.title:\n",
    "        greeting += arguments.title + \" \"\n",
    "    greeting += arguments.personal + \" \" + arguments.family + \".\"\n",
    "    print(greeting)"
   ]
  },
  {
   "cell_type": "markdown",
   "metadata": {},
   "source": [
    "if __name__ == \"__main__\":\n",
    "    \n",
    "if you run the module as a script, it will execute main.\n",
    "but if you import that module in another script, it won't execute.\n",
    "\n",
    "also for multi-processing in parallel is used -> when you need to have multiple processors "
   ]
  },
  {
   "cell_type": "markdown",
   "metadata": {},
   "source": [
    "\n",
    "\n",
    "\n",
    "\n"
   ]
  },
  {
   "cell_type": "code",
   "execution_count": 21,
   "metadata": {},
   "outputs": [
    {
     "name": "stdout",
     "output_type": "stream",
     "text": [
      "Microsoft Windows [Version 10.0.19044.1466]\r\n",
      "(c) Microsoft Corporation. All rights reserved.\r\n",
      "\r\n",
      "(rse_course_2022) C:\\Users\\dmassegur\\Projects\\P001 - RSE Course\\Materials\\rse-course\\module06_software_projects>/usr/bin/env bash\n",
      "\r\n",
      "(rse_course_2022) C:\\Users\\dmassegur\\Projects\\P001 - RSE Course\\Materials\\rse-course\\module06_software_projects># %%cmd (windows) \n",
      "\r\n",
      "(rse_course_2022) C:\\Users\\dmassegur\\Projects\\P001 - RSE Course\\Materials\\rse-course\\module06_software_projects>/usr/bin/env bash\n",
      "\r\n",
      "(rse_course_2022) C:\\Users\\dmassegur\\Projects\\P001 - RSE Course\\Materials\\rse-course\\module06_software_projects>chmod u+x greeter.py\n",
      "\r\n",
      "(rse_course_2022) C:\\Users\\dmassegur\\Projects\\P001 - RSE Course\\Materials\\rse-course\\module06_software_projects>"
     ]
    },
    {
     "name": "stderr",
     "output_type": "stream",
     "text": [
      "The system cannot find the path specified.\r\n",
      "'#' is not recognized as an internal or external command,\r\n",
      "operable program or batch file.\r\n",
      "The system cannot find the path specified.\r\n",
      "'chmod' is not recognized as an internal or external command,\r\n",
      "operable program or batch file.\r\n"
     ]
    }
   ],
   "source": [
    "%%cmd   #%%bash\n",
    "/usr/bin/env bash\n",
    "# %%cmd (windows) \n",
    "chmod u+x greeter.py"
   ]
  },
  {
   "cell_type": "code",
   "execution_count": 19,
   "metadata": {},
   "outputs": [
    {
     "name": "stdout",
     "output_type": "stream",
     "text": [
      "Microsoft Windows [Version 10.0.19044.1466]\r\n",
      "(c) Microsoft Corporation. All rights reserved.\r\n",
      "\r\n",
      "(rse_course_2022) C:\\Users\\dmassegur\\Projects\\P001 - RSE Course\\Materials\\rse-course\\module06_software_projects>./greeter.py --help\n",
      "\r\n",
      "(rse_course_2022) C:\\Users\\dmassegur\\Projects\\P001 - RSE Course\\Materials\\rse-course\\module06_software_projects>"
     ]
    },
    {
     "name": "stderr",
     "output_type": "stream",
     "text": [
      "'.' is not recognized as an internal or external command,\r\n",
      "operable program or batch file.\r\n"
     ]
    }
   ],
   "source": [
    "%%cmd  #%%bash\n",
    "./greeter.py --help"
   ]
  },
  {
   "cell_type": "code",
   "execution_count": 15,
   "metadata": {},
   "outputs": [
    {
     "name": "stdout",
     "output_type": "stream",
     "text": [
      "Couldn't find program: 'bash'\n"
     ]
    }
   ],
   "source": [
    "%%bash\n",
    "./greeter.py James Hetherington"
   ]
  },
  {
   "cell_type": "code",
   "execution_count": 16,
   "metadata": {},
   "outputs": [
    {
     "name": "stdout",
     "output_type": "stream",
     "text": [
      "Couldn't find program: 'bash'\n"
     ]
    }
   ],
   "source": [
    "%%bash\n",
    "./greeter.py --polite James Hetherington"
   ]
  },
  {
   "cell_type": "code",
   "execution_count": null,
   "metadata": {},
   "outputs": [],
   "source": [
    "%%bash\n",
    "./greeter.py James Hetherington --title Dr"
   ]
  },
  {
   "cell_type": "markdown",
   "metadata": {},
   "source": [
    "these last commands you can also run them in the terminal. Examples:\n",
    "\n",
    "python greeter.py --help\n",
    "python greeter.py David Massegur\n",
    "python greeter.py --polite David Massi\n",
    "python greeter.py David Massi --title Dr"
   ]
  }
 ],
 "metadata": {
  "jekyll": {
   "display_name": "Argparse"
  },
  "kernelspec": {
   "display_name": "Python 3 (ipykernel)",
   "language": "python",
   "name": "python3"
  },
  "language_info": {
   "codemirror_mode": {
    "name": "ipython",
    "version": 3
   },
   "file_extension": ".py",
   "mimetype": "text/x-python",
   "name": "python",
   "nbconvert_exporter": "python",
   "pygments_lexer": "ipython3",
   "version": "3.9.7"
  }
 },
 "nbformat": 4,
 "nbformat_minor": 1
}
