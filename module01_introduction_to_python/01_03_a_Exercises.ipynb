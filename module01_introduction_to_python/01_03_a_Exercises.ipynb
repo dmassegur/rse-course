{
 "cells": [
  {
   "cell_type": "markdown",
   "id": "766fd5bb",
   "metadata": {},
   "source": [
    "## Exercises\n",
    "\n",
    "Try to find the operator or function you need to calculate the following (the easiest way might be an internet search)."
   ]
  },
  {
   "cell_type": "markdown",
   "id": "3f9cf30b",
   "metadata": {},
   "source": [
    "What is 2 to the power 15?"
   ]
  },
  {
   "cell_type": "code",
   "execution_count": 1,
   "id": "ace09a87",
   "metadata": {},
   "outputs": [
    {
     "data": {
      "text/plain": [
       "32768"
      ]
     },
     "execution_count": 1,
     "metadata": {},
     "output_type": "execute_result"
    }
   ],
   "source": [
    "2**15"
   ]
  },
  {
   "cell_type": "code",
   "execution_count": 11,
   "id": "070f7599",
   "metadata": {},
   "outputs": [
    {
     "data": {
      "text/plain": [
       "32768"
      ]
     },
     "execution_count": 11,
     "metadata": {},
     "output_type": "execute_result"
    }
   ],
   "source": [
    "pow(2,15)"
   ]
  },
  {
   "cell_type": "markdown",
   "id": "ab432fbb",
   "metadata": {},
   "source": [
    "Convert `\"It was the best of times\"` to uppercase. Hint: you will need a method which acts on strings."
   ]
  },
  {
   "cell_type": "code",
   "execution_count": 13,
   "id": "41f6b4a1",
   "metadata": {},
   "outputs": [
    {
     "name": "stdout",
     "output_type": "stream",
     "text": [
      "IT WAS THE BEST OF TIMES\n",
      "it was the best of times\n"
     ]
    }
   ],
   "source": [
    "str = 'It was the best of times'\n",
    "print(str.upper())\n",
    "print(str.lower())"
   ]
  },
  {
   "cell_type": "markdown",
   "id": "248beea0",
   "metadata": {},
   "source": [
    "Sort the list `[10, 9, 0, 20, 8, 2, 30, 7, 3]`. Hint: you will need a built-in function."
   ]
  },
  {
   "cell_type": "code",
   "execution_count": 7,
   "id": "c471d761",
   "metadata": {},
   "outputs": [
    {
     "name": "stdout",
     "output_type": "stream",
     "text": [
      "[0, 2, 3, 7, 8, 9, 10, 20, 30]\n"
     ]
    }
   ],
   "source": [
    "l = [10, 9, 0, 20, 8, 2, 30, 7, 3]\n",
    "l.sort()\n",
    "print(l)"
   ]
  },
  {
   "cell_type": "code",
   "execution_count": 14,
   "id": "20057dba",
   "metadata": {},
   "outputs": [
    {
     "name": "stdout",
     "output_type": "stream",
     "text": [
      "[0, 2, 3, 7, 8, 9, 10, 20, 30]\n"
     ]
    }
   ],
   "source": [
    "l = [10, 9, 0, 20, 8, 2, 30, 7, 3]\n",
    "l = sorted(l)\n",
    "print(l)"
   ]
  },
  {
   "cell_type": "markdown",
   "id": "ca5c56b0",
   "metadata": {},
   "source": [
    "What is 100! ? (That is, what is the factorial of 100?) Hint: the `factorial` function is in the `math` library m"
   ]
  },
  {
   "cell_type": "code",
   "execution_count": 10,
   "id": "ad4b55fd",
   "metadata": {},
   "outputs": [
    {
     "name": "stdout",
     "output_type": "stream",
     "text": [
      "93326215443944152681699238856266700490715968264381621468592963895217599993229915608941463976156518286253697920827223758251185210916864000000000000000000000000\n"
     ]
    }
   ],
   "source": [
    "import math\n",
    "x = 100\n",
    "y = math.factorial(x)\n",
    "print(y)"
   ]
  },
  {
   "cell_type": "code",
   "execution_count": null,
   "id": "1837b487",
   "metadata": {},
   "outputs": [],
   "source": []
  }
 ],
 "metadata": {
  "kernelspec": {
   "display_name": "Python 3 (ipykernel)",
   "language": "python",
   "name": "python3"
  },
  "language_info": {
   "codemirror_mode": {
    "name": "ipython",
    "version": 3
   },
   "file_extension": ".py",
   "mimetype": "text/x-python",
   "name": "python",
   "nbconvert_exporter": "python",
   "pygments_lexer": "ipython3",
   "version": "3.9.7"
  }
 },
 "nbformat": 4,
 "nbformat_minor": 5
}
