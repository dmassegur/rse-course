{
 "cells": [
  {
   "cell_type": "markdown",
   "metadata": {},
   "source": [
    "# Iteration"
   ]
  },
  {
   "cell_type": "markdown",
   "metadata": {},
   "source": [
    "Our other aspect of control is looping back on ourselves.\n",
    "\n",
    "We use `for` ... `in` to \"iterate\" over lists:"
   ]
  },
  {
   "cell_type": "code",
   "execution_count": 1,
   "metadata": {},
   "outputs": [],
   "source": [
    "mylist = [3, 7, 15, 2]"
   ]
  },
  {
   "cell_type": "code",
   "execution_count": 2,
   "metadata": {},
   "outputs": [
    {
     "name": "stdout",
     "output_type": "stream",
     "text": [
      "9\n",
      "49\n",
      "225\n",
      "4\n"
     ]
    }
   ],
   "source": [
    "for whatever in mylist:\n",
    "    print(whatever ** 2)"
   ]
  },
  {
   "cell_type": "markdown",
   "metadata": {},
   "source": [
    "Each time through the loop, the variable in the `value` slot is updated to the **next** element of the sequence."
   ]
  },
  {
   "cell_type": "markdown",
   "metadata": {},
   "source": [
    "## Iterables"
   ]
  },
  {
   "cell_type": "markdown",
   "metadata": {},
   "source": [
    "\n",
    "Any sequence type is iterable:\n",
    "\n",
    "\n"
   ]
  },
  {
   "cell_type": "code",
   "execution_count": 3,
   "metadata": {},
   "outputs": [
    {
     "data": {
      "text/plain": [
       "'OOOkaaay'"
      ]
     },
     "execution_count": 3,
     "metadata": {},
     "output_type": "execute_result"
    }
   ],
   "source": [
    "vowels = \"aeiou\"\n",
    "sarcasm = []\n",
    "\n",
    "for letter in \"Okay\":\n",
    "    if letter.lower() in vowels:\n",
    "        repetition = 3\n",
    "    else:\n",
    "        repetition = 1\n",
    "\n",
    "    sarcasm.append(letter * repetition)\n",
    "\n",
    "\"\".join(sarcasm)"
   ]
  },
  {
   "cell_type": "markdown",
   "metadata": {},
   "source": [
    "The above is a little puzzle, work through it to understand why it does what it does."
   ]
  },
  {
   "cell_type": "markdown",
   "metadata": {},
   "source": [
    "###  Dictionaries are Iterables"
   ]
  },
  {
   "cell_type": "markdown",
   "metadata": {},
   "source": [
    "All sequences are iterables. Some iterables (things you can `for` loop over) are not sequences (things with you can do `x[5]` to), for example sets and dictionaries."
   ]
  },
  {
   "cell_type": "code",
   "execution_count": 12,
   "metadata": {},
   "outputs": [
    {
     "name": "stdout",
     "output_type": "stream",
     "text": [
      "James is 46 years old.\n",
      "UCL is 196 years old.\n",
      "Cambridge is 813 years old.\n"
     ]
    }
   ],
   "source": [
    "import datetime\n",
    "\n",
    "now = datetime.datetime.now()\n",
    "\n",
    "founded = {\"James\": 1976, \"UCL\": 1826, \"Cambridge\": 1209}\n",
    "\n",
    "current_year = now.year\n",
    "\n",
    "for thing in founded:\n",
    "    print(thing, \"is\", current_year - founded[thing], \"years old.\")"
   ]
  },
  {
   "cell_type": "markdown",
   "metadata": {},
   "source": [
    "## Unpacking and Iteration"
   ]
  },
  {
   "cell_type": "markdown",
   "metadata": {},
   "source": [
    "\n",
    "Unpacking can be useful with iteration:\n",
    "\n",
    "\n"
   ]
  },
  {
   "cell_type": "code",
   "execution_count": 13,
   "metadata": {},
   "outputs": [],
   "source": [
    "triples = [[4, 11, 15], [39, 4, 18]]"
   ]
  },
  {
   "cell_type": "code",
   "execution_count": 6,
   "metadata": {},
   "outputs": [
    {
     "name": "stdout",
     "output_type": "stream",
     "text": [
      "[4, 11, 15]\n",
      "[39, 4, 18]\n"
     ]
    }
   ],
   "source": [
    "for whatever in triples:\n",
    "    print(whatever)"
   ]
  },
  {
   "cell_type": "markdown",
   "metadata": {},
   "source": [
    "Unpacking each element of the list:"
   ]
  },
  {
   "cell_type": "code",
   "execution_count": 15,
   "metadata": {},
   "outputs": [
    {
     "name": "stdout",
     "output_type": "stream",
     "text": [
      "11\n",
      "4\n"
     ]
    }
   ],
   "source": [
    "for first, middle, last in triples:\n",
    "    print(middle)"
   ]
  },
  {
   "cell_type": "code",
   "execution_count": 16,
   "metadata": {},
   "outputs": [
    {
     "name": "stdout",
     "output_type": "stream",
     "text": [
      "11\n",
      "4\n"
     ]
    }
   ],
   "source": [
    "# A reminder that the words you use for variable names are arbitrary:\n",
    "for hedgehog, badger, fox in triples:\n",
    "    print(badger)"
   ]
  },
  {
   "cell_type": "markdown",
   "metadata": {},
   "source": [
    "\n",
    "\n",
    "\n",
    "for example, to iterate over the items in a dictionary as pairs:\n",
    "\n",
    "\n"
   ]
  },
  {
   "cell_type": "code",
   "execution_count": 20,
   "metadata": {},
   "outputs": [
    {
     "name": "stdout",
     "output_type": "stream",
     "text": [
      "dict_items([('James', [1976, 'Kendal']), ('UCL', [1826, 'Bloomsbury']), ('Cambridge', [1209, 'Cambridge'])])\n",
      "{'James': [1976, 'Kendal'], 'UCL': [1826, 'Bloomsbury'], 'Cambridge': [1209, 'Cambridge']}\n"
     ]
    }
   ],
   "source": [
    "things = {\n",
    "    \"James\": [1976, \"Kendal\"],\n",
    "    \"UCL\": [1826, \"Bloomsbury\"],\n",
    "    \"Cambridge\": [1209, \"Cambridge\"],\n",
    "}\n",
    "\n",
    "print(things.items())\n",
    "print(things)"
   ]
  },
  {
   "cell_type": "markdown",
   "metadata": {},
   "source": [
    "how to unpack a dictionary:"
   ]
  },
  {
   "cell_type": "code",
   "execution_count": 21,
   "metadata": {},
   "outputs": [
    {
     "name": "stdout",
     "output_type": "stream",
     "text": [
      "James is 46 years old.\n",
      "UCL is 196 years old.\n",
      "Cambridge is 813 years old.\n"
     ]
    }
   ],
   "source": [
    "for name, year in things.items():\n",
    "    print(name, \"is\", current_year - year[0], \"years old.\")"
   ]
  },
  {
   "cell_type": "code",
   "execution_count": 22,
   "metadata": {},
   "outputs": [
    {
     "ename": "ValueError",
     "evalue": "too many values to unpack (expected 2)",
     "output_type": "error",
     "traceback": [
      "\u001b[1;31m---------------------------------------------------------------------------\u001b[0m",
      "\u001b[1;31mValueError\u001b[0m                                Traceback (most recent call last)",
      "\u001b[1;32mC:\\Users\\DMASSE~1\\AppData\\Local\\Temp/ipykernel_26968/3263289312.py\u001b[0m in \u001b[0;36m<module>\u001b[1;34m\u001b[0m\n\u001b[1;32m----> 1\u001b[1;33m \u001b[1;32mfor\u001b[0m \u001b[0mname\u001b[0m\u001b[1;33m,\u001b[0m \u001b[0myear\u001b[0m \u001b[1;32min\u001b[0m \u001b[0mthings\u001b[0m\u001b[1;33m:\u001b[0m\u001b[1;33m\u001b[0m\u001b[1;33m\u001b[0m\u001b[0m\n\u001b[0m\u001b[0;32m      2\u001b[0m     \u001b[0mprint\u001b[0m\u001b[1;33m(\u001b[0m\u001b[0mname\u001b[0m\u001b[1;33m,\u001b[0m \u001b[1;34m\"is\"\u001b[0m\u001b[1;33m,\u001b[0m \u001b[0mcurrent_year\u001b[0m \u001b[1;33m-\u001b[0m \u001b[0myear\u001b[0m\u001b[1;33m[\u001b[0m\u001b[1;36m0\u001b[0m\u001b[1;33m]\u001b[0m\u001b[1;33m,\u001b[0m \u001b[1;34m\"years old.\"\u001b[0m\u001b[1;33m)\u001b[0m\u001b[1;33m\u001b[0m\u001b[1;33m\u001b[0m\u001b[0m\n",
      "\u001b[1;31mValueError\u001b[0m: too many values to unpack (expected 2)"
     ]
    }
   ],
   "source": [
    "for name, year in things:\n",
    "    print(name, \"is\", current_year - year[0], \"years old.\")"
   ]
  },
  {
   "cell_type": "code",
   "execution_count": 25,
   "metadata": {},
   "outputs": [
    {
     "name": "stdout",
     "output_type": "stream",
     "text": [
      "('James', [1976, 'Kendal'])\n",
      "James\n",
      "[1976, 'Kendal']\n",
      "('UCL', [1826, 'Bloomsbury'])\n",
      "UCL\n",
      "[1826, 'Bloomsbury']\n",
      "('Cambridge', [1209, 'Cambridge'])\n",
      "Cambridge\n",
      "[1209, 'Cambridge']\n"
     ]
    }
   ],
   "source": [
    "for elem in things.items():\n",
    "    print(elem)\n",
    "    print(elem[0])\n",
    "    print(elem[1])"
   ]
  },
  {
   "cell_type": "markdown",
   "metadata": {},
   "source": [
    "## Break, Continue"
   ]
  },
  {
   "cell_type": "markdown",
   "metadata": {},
   "source": [
    "\n",
    "* Continue skips to the next turn of a loop\n",
    "* Break stops the loop early\n",
    "\n",
    "\n"
   ]
  },
  {
   "cell_type": "code",
   "execution_count": 11,
   "metadata": {},
   "outputs": [
    {
     "name": "stdout",
     "output_type": "stream",
     "text": [
      "1\n",
      "3\n",
      "5\n",
      "7\n",
      "9\n",
      "11\n",
      "13\n",
      "15\n",
      "17\n",
      "19\n"
     ]
    }
   ],
   "source": [
    "for n in range(50):\n",
    "    if n == 20:\n",
    "        break\n",
    "    if n % 2 == 0:\n",
    "        continue\n",
    "    print(n)"
   ]
  },
  {
   "cell_type": "markdown",
   "metadata": {},
   "source": [
    "These aren't useful that often, but are worth knowing about. There's also an optional `else` clause on loops, executed only if you don't `break`, but I've never found that useful."
   ]
  },
  {
   "cell_type": "markdown",
   "metadata": {},
   "source": [
    "## Classroom exercise: the Maze Population"
   ]
  },
  {
   "cell_type": "markdown",
   "metadata": {},
   "source": [
    "Take your maze data structure. Write a program to count the total number of people in the maze, and also determine the total possible occupants."
   ]
  },
  {
   "cell_type": "code",
   "execution_count": 28,
   "metadata": {},
   "outputs": [],
   "source": [
    "front={'people':['James', '' ], 'up':'bedroom', 'north':'kitchen', 'sideways': 'garden'}\n",
    "kitchen={'people':[''], 'south':'front'}\n",
    "garden={'people':['Sue', '', '' ], 'sideways': 'front'}\n",
    "bedroom={'people':['', '' ], 'sideways': 'garden', 'down':'front'}\n",
    "\n",
    "house = [front, kitchen, garden, bedroom]"
   ]
  },
  {
   "cell_type": "code",
   "execution_count": 32,
   "metadata": {},
   "outputs": [
    {
     "name": "stdout",
     "output_type": "stream",
     "text": [
      "{'people': ['James', ''], 'up': 'bedroom', 'north': 'kitchen', 'sideways': 'garden'}\n",
      "{'people': [''], 'south': 'front'}\n",
      "{'people': ['Sue', '', ''], 'sideways': 'front'}\n",
      "{'people': ['', ''], 'sideways': 'garden', 'down': 'front'}\n",
      "Total number of possible occupants in the house: 8\n",
      "Total number of people present in the house: 2\n"
     ]
    }
   ],
   "source": [
    "ppl = 0\n",
    "capacity = 0\n",
    "for room in house:\n",
    "    print(room)\n",
    "    capacity += len(room['people'])\n",
    "    for el in room['people']:\n",
    "        if el:\n",
    "            ppl += 1\n",
    "            \n",
    "print('Total number of possible occupants in the house: %d' %capacity)            \n",
    "print('Total number of people present in the house: %d' %ppl)   "
   ]
  }
 ],
 "metadata": {
  "jekyll": {
   "display_name": "Looping"
  },
  "kernelspec": {
   "display_name": "Python 3 (ipykernel)",
   "language": "python",
   "name": "python3"
  },
  "language_info": {
   "codemirror_mode": {
    "name": "ipython",
    "version": 3
   },
   "file_extension": ".py",
   "mimetype": "text/x-python",
   "name": "python",
   "nbconvert_exporter": "python",
   "pygments_lexer": "ipython3",
   "version": "3.9.7"
  }
 },
 "nbformat": 4,
 "nbformat_minor": 1
}
