{
 "cells": [
  {
   "cell_type": "markdown",
   "metadata": {},
   "source": [
    "# Markup Languages"
   ]
  },
  {
   "cell_type": "markdown",
   "metadata": {},
   "source": [
    "XML and its relatives are based on the idea of *marking up* content with labels on its purpose:\n",
    "    \n",
    "    <name>James</name> is a <job>Programmer</job>"
   ]
  },
  {
   "cell_type": "markdown",
   "metadata": {},
   "source": [
    "One of the easiest ways to make a markup-language based fileformat is the use of a *templating language*."
   ]
  },
  {
   "cell_type": "code",
   "execution_count": 1,
   "metadata": {},
   "outputs": [
    {
     "data": {
      "text/latex": [
       "$\\displaystyle C_6H_{12}O_6 + 6O_2 \\rightarrow 6CO_2 + 6H_2O\\\\ \n",
       "2H_2 + O_2 \\rightarrow 2H_2O$"
      ],
      "text/plain": [
       "<IPython.core.display.Math object>"
      ]
     },
     "metadata": {},
     "output_type": "display_data"
    }
   ],
   "source": [
    "from parsereactions import parser\n",
    "from IPython.display import display, Math\n",
    "\n",
    "with open(\"system.tex\", \"r\") as f_latex:\n",
    "    system = parser.parse(f_latex.read())\n",
    "display(Math(str(system)))"
   ]
  },
  {
   "cell_type": "code",
   "execution_count": 2,
   "metadata": {},
   "outputs": [
    {
     "name": "stdout",
     "output_type": "stream",
     "text": [
      "Writing chemistry_template.mko\n"
     ]
    }
   ],
   "source": [
    "%%writefile chemistry_template.mko\n",
    "<?xml version=\"1.0\" encoding=\"UTF-8\"?>\n",
    "<system>\n",
    "%for reaction in reactions:\n",
    "    <reaction>\n",
    "        <reactants>\n",
    "        %for molecule in reaction.reactants.molecules:\n",
    "            <molecule stoichiometry=\"${reaction.reactants.molecules[molecule]}\">\n",
    "            %for element in molecule.elements:\n",
    "                <atom symbol=\"${element.symbol}\" number=\"${molecule.elements[element]}\"/>\n",
    "            %endfor\n",
    "            </molecule>\n",
    "        %endfor\n",
    "        </reactants>\n",
    "        <products>\n",
    "        %for molecule in reaction.products.molecules:\n",
    "            <molecule stoichiometry=\"${reaction.products.molecules[molecule]}\">\n",
    "            %for element in molecule.elements:\n",
    "                <atom symbol=\"${element.symbol}\" number=\"${molecule.elements[element]}\"/>\n",
    "            %endfor\n",
    "            </molecule>\n",
    "        %endfor\n",
    "        </products>\n",
    "    </reaction>\n",
    "%endfor\n",
    "</system>"
   ]
  },
  {
   "cell_type": "code",
   "execution_count": 6,
   "metadata": {},
   "outputs": [
    {
     "name": "stdout",
     "output_type": "stream",
     "text": [
      "{'reactions': [<system.Reaction object at 0x000002080573E6D0>, <system.Reaction object at 0x000002080573EC10>]}\n"
     ]
    }
   ],
   "source": [
    "print(vars(system))"
   ]
  },
  {
   "cell_type": "code",
   "execution_count": 7,
   "metadata": {},
   "outputs": [],
   "source": [
    "from mako.template import Template\n",
    "\n",
    "mytemplate = Template(filename=\"chemistry_template.mko\")\n",
    "with open(\"system.xml\", \"w\") as xmlfile:\n",
    "    xmlfile.write((mytemplate.render(**vars(system))))"
   ]
  },
  {
   "cell_type": "code",
   "execution_count": 9,
   "metadata": {},
   "outputs": [
    {
     "name": "stdout",
     "output_type": "stream",
     "text": [
      "<?xml version=\"1.0\" encoding=\"UTF-8\"?>\n",
      "\n",
      "<system>\n",
      "\n",
      "    <reaction>\n",
      "\n",
      "        <reactants>\n",
      "\n",
      "            <molecule stoichiometry=\"1\">\n",
      "\n",
      "                <atom symbol=\"C\" number=\"6\"/>\n",
      "\n",
      "                <atom symbol=\"H\" number=\"12\"/>\n",
      "\n",
      "                <atom symbol=\"O\" number=\"6\"/>\n",
      "\n",
      "            </molecule>\n",
      "\n",
      "            <molecule stoichiometry=\"6\">\n",
      "\n",
      "                <atom symbol=\"O\" number=\"2\"/>\n",
      "\n",
      "            </molecule>\n",
      "\n",
      "        </reactants>\n",
      "\n",
      "        <products>\n",
      "\n",
      "            <molecule stoichiometry=\"6\">\n",
      "\n",
      "                <atom symbol=\"C\" number=\"1\"/>\n",
      "\n",
      "                <atom symbol=\"O\" number=\"2\"/>\n",
      "\n",
      "            </molecule>\n",
      "\n",
      "            <molecule stoichiometry=\"6\">\n",
      "\n",
      "                <atom symbol=\"H\" number=\"2\"/>\n",
      "\n",
      "                <atom symbol=\"O\" number=\"1\"/>\n",
      "\n",
      "            </molecule>\n",
      "\n",
      "        </products>\n",
      "\n",
      "    </reaction>\n",
      "\n",
      "    <reaction>\n",
      "\n",
      "        <reactants>\n",
      "\n",
      "            <molecule stoichiometry=\"2\">\n",
      "\n",
      "                <atom symbol=\"H\" number=\"2\"/>\n",
      "\n",
      "            </molecule>\n",
      "\n",
      "            <molecule stoichiometry=\"1\">\n",
      "\n",
      "                <atom symbol=\"O\" number=\"2\"/>\n",
      "\n",
      "            </molecule>\n",
      "\n",
      "        </reactants>\n",
      "\n",
      "        <products>\n",
      "\n",
      "            <molecule stoichiometry=\"2\">\n",
      "\n",
      "                <atom symbol=\"H\" number=\"2\"/>\n",
      "\n",
      "                <atom symbol=\"O\" number=\"1\"/>\n",
      "\n",
      "            </molecule>\n",
      "\n",
      "        </products>\n",
      "\n",
      "    </reaction>\n",
      "\n",
      "</system>\n",
      "\n"
     ]
    }
   ],
   "source": [
    "# !cat system.xml  # linux\n",
    "!type system.xml   # windows"
   ]
  },
  {
   "cell_type": "markdown",
   "metadata": {},
   "source": [
    "Markup languages are verbose (jokingly called the \"angle bracket tax\") but very clear."
   ]
  },
  {
   "cell_type": "markdown",
   "metadata": {},
   "source": [
    "## Data as text"
   ]
  },
  {
   "cell_type": "markdown",
   "metadata": {},
   "source": [
    "The above serialisation specifies all data as XML \"Attributes\". An alternative is to put the data in the text:"
   ]
  },
  {
   "cell_type": "code",
   "execution_count": 10,
   "metadata": {},
   "outputs": [
    {
     "name": "stdout",
     "output_type": "stream",
     "text": [
      "Writing chemistry_template2.mko\n"
     ]
    }
   ],
   "source": [
    "%%writefile chemistry_template2.mko\n",
    "<?xml version=\"1.0\" encoding=\"UTF-8\"?>\n",
    "<system>\n",
    "%for reaction in reactions:\n",
    "    <reaction>\n",
    "        <reactants>\n",
    "        %for molecule in reaction.reactants.molecules:\n",
    "            <molecule stoichiometry=\"${reaction.reactants.molecules[molecule]}\">\n",
    "            %for element in molecule.elements:\n",
    "                <atom symbol=\"${element.symbol}\">${molecule.elements[element]}</atom>\n",
    "            %endfor\n",
    "            </molecule>\n",
    "        %endfor\n",
    "        </reactants>\n",
    "        <products>\n",
    "        %for molecule in reaction.products.molecules:\n",
    "            <molecule stoichiometry=\"${reaction.products.molecules[molecule]}\">\n",
    "            %for element in molecule.elements:\n",
    "                <atom symbol=\"${element.symbol}\">${molecule.elements[element]}</atom>\n",
    "            %endfor\n",
    "            </molecule>\n",
    "        %endfor\n",
    "        </products>\n",
    "    </reaction>\n",
    "%endfor\n",
    "</system>"
   ]
  },
  {
   "cell_type": "code",
   "execution_count": 11,
   "metadata": {},
   "outputs": [],
   "source": [
    "from mako.template import Template\n",
    "\n",
    "mytemplate = Template(filename=\"chemistry_template2.mko\")\n",
    "with open(\"system2.xml\", \"w\") as xmlfile:\n",
    "    xmlfile.write((mytemplate.render(**vars(system))))"
   ]
  },
  {
   "cell_type": "code",
   "execution_count": 27,
   "metadata": {},
   "outputs": [
    {
     "name": "stdout",
     "output_type": "stream",
     "text": [
      "<?xml version=\"1.0\" encoding=\"UTF-8\"?>\n",
      "\n",
      "<system>\n",
      "\n",
      "    <reaction>\n",
      "\n",
      "        <reactants>\n",
      "\n",
      "            <molecule stoichiometry=\"1\">\n",
      "\n",
      "                <atom symbol=\"C\">6</atom>\n",
      "\n",
      "                <atom symbol=\"H\">12</atom>\n",
      "\n",
      "                <atom symbol=\"O\">6</atom>\n",
      "\n",
      "            </molecule>\n",
      "\n",
      "            <molecule stoichiometry=\"6\">\n",
      "\n",
      "                <atom symbol=\"O\">2</atom>\n",
      "\n",
      "            </molecule>\n",
      "\n",
      "        </reactants>\n",
      "\n",
      "        <products>\n",
      "\n",
      "            <molecule stoichiometry=\"6\">\n",
      "\n",
      "                <atom symbol=\"C\">1</atom>\n",
      "\n",
      "                <atom symbol=\"O\">2</atom>\n",
      "\n",
      "            </molecule>\n",
      "\n",
      "            <molecule stoichiometry=\"6\">\n",
      "\n",
      "                <atom symbol=\"H\">2</atom>\n",
      "\n",
      "                <atom symbol=\"O\">1</atom>\n",
      "\n",
      "            </molecule>\n",
      "\n",
      "        </products>\n",
      "\n",
      "    </reaction>\n",
      "\n",
      "    <reaction>\n",
      "\n",
      "        <reactants>\n",
      "\n",
      "            <molecule stoichiometry=\"2\">\n",
      "\n",
      "                <atom symbol=\"H\">2</atom>\n",
      "\n",
      "            </molecule>\n",
      "\n",
      "            <molecule stoichiometry=\"1\">\n",
      "\n",
      "                <atom symbol=\"O\">2</atom>\n",
      "\n",
      "            </molecule>\n",
      "\n",
      "        </reactants>\n",
      "\n",
      "        <products>\n",
      "\n",
      "            <molecule stoichiometry=\"2\">\n",
      "\n",
      "                <atom symbol=\"H\">2</atom>\n",
      "\n",
      "                <atom symbol=\"O\">1</atom>\n",
      "\n",
      "            </molecule>\n",
      "\n",
      "        </products>\n",
      "\n",
      "    </reaction>\n",
      "\n",
      "</system>\n",
      "\n"
     ]
    },
    {
     "name": "stderr",
     "output_type": "stream",
     "text": [
      "\n",
      "system2.xml\n",
      "\n",
      "\n",
      "The system cannot find the file specified.\n",
      "Error occurred while processing: #.\n",
      "The system cannot find the file specified.\n",
      "Error occurred while processing: windows.\n"
     ]
    }
   ],
   "source": [
    "# !cat system2.xml   # linux\n",
    "!type system2.xml    # windows"
   ]
  },
  {
   "cell_type": "markdown",
   "metadata": {},
   "source": [
    "## Parsing XML"
   ]
  },
  {
   "cell_type": "markdown",
   "metadata": {},
   "source": [
    "XML is normally parsed by building a tree-structure of all the `tags` in the file, called a `DOM` or Document Object Model."
   ]
  },
  {
   "cell_type": "markdown",
   "metadata": {},
   "source": [
    "We can create a tree:"
   ]
  },
  {
   "cell_type": "code",
   "execution_count": 13,
   "metadata": {},
   "outputs": [
    {
     "name": "stdout",
     "output_type": "stream",
     "text": [
      "<system>\n",
      "\n",
      "    <reaction>\n",
      "\n",
      "        <reactants>\n",
      "\n",
      "            <molecule stoichiometry=\"1\">\n",
      "\n",
      "                <atom symbol=\"C\" number=\"6\"/>\n",
      "\n",
      "                <atom symbol=\"H\" number=\"12\"/>\n",
      "\n",
      "                <atom symbol=\"O\" number=\"6\"/>\n",
      "\n",
      "            </molecule>\n",
      "\n",
      "            <molecule stoichiometry=\"6\">\n",
      "\n",
      "                <atom symbol=\"O\" number=\"2\"/>\n",
      "\n",
      "            </molecule>\n",
      "\n",
      "        </reactants>\n",
      "\n",
      "        <products>\n",
      "\n",
      "            <molecule stoichiometry=\"6\">\n",
      "\n",
      "                <atom symbol=\"C\" number=\"1\"/>\n",
      "\n",
      "                <atom symbol=\"O\" number=\"2\"/>\n",
      "\n",
      "            </molecule>\n",
      "\n",
      "            <molecule stoichiometry=\"6\">\n",
      "\n",
      "                <atom symbol=\"H\" number=\"2\"/>\n",
      "\n",
      "                <atom symbol=\"O\" number=\"1\"/>\n",
      "\n",
      "            </molecule>\n",
      "\n",
      "        </products>\n",
      "\n",
      "    </reaction>\n",
      "\n",
      "    <reaction>\n",
      "\n",
      "        <reactants>\n",
      "\n",
      "            <molecule stoichiometry=\"2\">\n",
      "\n",
      "                <atom symbol=\"H\" number=\"2\"/>\n",
      "\n",
      "            </molecule>\n",
      "\n",
      "            <molecule stoichiometry=\"1\">\n",
      "\n",
      "                <atom symbol=\"O\" number=\"2\"/>\n",
      "\n",
      "            </molecule>\n",
      "\n",
      "        </reactants>\n",
      "\n",
      "        <products>\n",
      "\n",
      "            <molecule stoichiometry=\"2\">\n",
      "\n",
      "                <atom symbol=\"H\" number=\"2\"/>\n",
      "\n",
      "                <atom symbol=\"O\" number=\"1\"/>\n",
      "\n",
      "            </molecule>\n",
      "\n",
      "        </products>\n",
      "\n",
      "    </reaction>\n",
      "\n",
      "</system>\n",
      "\n"
     ]
    }
   ],
   "source": [
    "from lxml import etree\n",
    "\n",
    "with open(\"system.xml\", \"r\") as xmlfile:\n",
    "    tree = etree.parse(xmlfile)\n",
    "print(etree.tostring(tree, pretty_print=True, encoding=str))"
   ]
  },
  {
   "cell_type": "markdown",
   "metadata": {},
   "source": [
    "We can navigate the tree, with each **element** being an iterable yielding its children: "
   ]
  },
  {
   "cell_type": "markdown",
   "metadata": {},
   "source": [
    "afrter creating the tree above, we can navigate through the tree:"
   ]
  },
  {
   "cell_type": "code",
   "execution_count": 14,
   "metadata": {},
   "outputs": [
    {
     "data": {
      "text/plain": [
       "'6'"
      ]
     },
     "execution_count": 14,
     "metadata": {},
     "output_type": "execute_result"
    }
   ],
   "source": [
    "tree.getroot()[0][0][1].attrib[\"stoichiometry\"]"
   ]
  },
  {
   "cell_type": "markdown",
   "metadata": {},
   "source": [
    "## Searching XML"
   ]
  },
  {
   "cell_type": "markdown",
   "metadata": {},
   "source": [
    "`xpath` is a sophisticated tool for searching XML DOMs:\n",
    "\n",
    "There's a good explanation of how it works here: https://www.w3schools.com/xml/xml_xpath.asp but the basics are reproduced below."
   ]
  },
  {
   "cell_type": "markdown",
   "metadata": {},
   "source": [
    "| XPath Expression | Result |\n",
    "| :- | :- |\n",
    "| `/bookstore/book[1]` | Selects the first `book` that is the child of a `bookstore` |\n",
    "| `/bookstore/book[last()]` | Selects the last `book` that is the child of a `bookstore` |\n",
    "| `/bookstore/book[last()-1]` | Selects the last but one `book` that is the child of a `bookstore` |\n",
    "| `/bookstore/book[position()<3]`| Selects the first two `book`s that are children of a `bookstore` |\n",
    "| `//title[@lang]` | Selects all `title`s that have an attribute named \"lang\" |\n",
    "| `//title[@lang='en']` | Selects all `title`s that have a \"lang\" attribute with a value of \"en\" |\n",
    "| `/bookstore/book[price>35.00]` | Selects all `book`s that are children of a `bookstore` and have a `price` with a value greater than 35.00 |\n",
    "| `/bookstore/book[price>35.00]/title` | Selects all the `title`s of a `book` of a `bookstore` that have a `price` with a value greater than 35.00 |"
   ]
  },
  {
   "cell_type": "code",
   "execution_count": 15,
   "metadata": {},
   "outputs": [
    {
     "data": {
      "text/plain": [
       "['C', 'O', 'O']"
      ]
     },
     "execution_count": 15,
     "metadata": {},
     "output_type": "execute_result"
    }
   ],
   "source": [
    "# For all molecules\n",
    "# ... with a child atom whose number attribute is '1'\n",
    "# ... return the symbol attribute of that child\n",
    "tree.xpath(\"//molecule/atom[@number='1']/@symbol\")"
   ]
  },
  {
   "cell_type": "markdown",
   "metadata": {},
   "source": [
    "It is useful to understand grammars like these using the \"FOR-LET-WHERE-ORDER-RETURN\" (pronounced Flower) model."
   ]
  },
  {
   "cell_type": "markdown",
   "metadata": {},
   "source": [
    "The above says: \"For element in molecules where number is one, return symbol\", roughly equivalent to `[element.symbol for element in molecule for molecule in document if element.number==1]` in Python."
   ]
  },
  {
   "cell_type": "code",
   "execution_count": 16,
   "metadata": {},
   "outputs": [
    {
     "name": "stdout",
     "output_type": "stream",
     "text": [
      "['C', 'O', 'H', 'O', 'H', 'O']\n"
     ]
    }
   ],
   "source": [
    "with open(\"system2.xml\") as xmlfile:\n",
    "    tree2 = etree.parse(xmlfile)\n",
    "# For all molecules with a child atom whose text is 1\n",
    "# ... return the symbol attribute of any child (however deeply nested)\n",
    "print(tree2.xpath(\"//molecule[atom=1]//@symbol\"))"
   ]
  },
  {
   "cell_type": "markdown",
   "metadata": {},
   "source": [
    "Note how we select on text content rather than attributes by using the element tag directly. The above says \"for every molecule where at least one element is present with just a single atom, return all the symbols of all the elements in that molecule.\""
   ]
  },
  {
   "cell_type": "markdown",
   "metadata": {},
   "source": [
    "## Transforming XML : XSLT"
   ]
  },
  {
   "cell_type": "markdown",
   "metadata": {},
   "source": [
    "make a xml file more readable:"
   ]
  },
  {
   "cell_type": "markdown",
   "metadata": {},
   "source": [
    "Two technologies (XSLT and XQUERY) provide capability to produce text output from an XML tree."
   ]
  },
  {
   "cell_type": "markdown",
   "metadata": {},
   "source": [
    "We'll look at XSLT as support is more widespread, including in the python library we're using. XQuery is probably easier to use and understand, but with less support.\n",
    "\n",
    "However, XSLT is a beautiful functional declarative language, once you read past the angle-brackets."
   ]
  },
  {
   "cell_type": "markdown",
   "metadata": {},
   "source": [
    "Here's an XSLT to transform our reaction system into a LaTeX representation:"
   ]
  },
  {
   "cell_type": "code",
   "execution_count": 17,
   "metadata": {},
   "outputs": [
    {
     "name": "stdout",
     "output_type": "stream",
     "text": [
      "Writing xmltotex.xsl\n"
     ]
    }
   ],
   "source": [
    "%%writefile xmltotex.xsl\n",
    "\n",
    "<xsl:stylesheet version=\"2.0\" xmlns:xsl=\"http://www.w3.org/1999/XSL/Transform\">\n",
    "    <xsl:output method=\"xml\" indent=\"yes\" omit-xml-declaration=\"yes\" />\n",
    "        \n",
    "    <!-- Decompose reaction into \"reactants \\rightarrow products\" -->\n",
    "    <xsl:template match=\"//reaction\">\n",
    "        <xsl:apply-templates select=\"reactants\"/>\n",
    "        <xsl:text> \\rightarrow </xsl:text>\n",
    "        <xsl:apply-templates select=\"products\"/>\n",
    "        <xsl:text>\\\\&#xa;</xsl:text>\n",
    "    </xsl:template>\n",
    "        \n",
    "    <!-- For a molecule anywhere except the first position write \" + \" and the number of molecules-->\n",
    "    <xsl:template match=\"//molecule[position()!=1]\">\n",
    "        <xsl:text> + </xsl:text>\n",
    "        <xsl:apply-templates select=\"@stoichiometry\"/>\n",
    "        <xsl:apply-templates/>\n",
    "    </xsl:template>\n",
    "\n",
    "    <!-- For a molecule in first position write the number of molecules -->\n",
    "    <xsl:template match=\"//molecule[position()=1]\">\n",
    "        <xsl:apply-templates select=\"@stoichiometry\"/>\n",
    "        <xsl:apply-templates/>\n",
    "    </xsl:template>\n",
    "\n",
    "    <!-- If the stoichiometry is one then ignore it -->\n",
    "    <xsl:template match=\"@stoichiometry[.='1']\"/>\n",
    "    \n",
    "    <!-- Otherwise, use the default template for attributes, which is just to copy value -->\n",
    "    \n",
    "    <!-- Decompose element into \"symbol number\" -->\n",
    "    <xsl:template match=\"//atom\">\n",
    "        <xsl:value-of select=\"@symbol\"/>\n",
    "        <xsl:apply-templates select=\"@number\"/>\n",
    "    </xsl:template>\n",
    "        \n",
    "    <!-- If the number of elements/molecules is one then ignore it -->        \n",
    "    <xsl:template match=\"@number[.=1]\"/>\n",
    "    \n",
    "    <!-- ... otherwise replace it with \"_ value\" -->        \n",
    "    <xsl:template match=\"@number[.!=1][10>.]\">\n",
    "        <xsl:text>_</xsl:text>\n",
    "        <xsl:value-of select=\".\"/>\n",
    "    </xsl:template>\n",
    "        \n",
    "    <!-- If a number is greater than 10 then wrap it in \"{}\" -->        \n",
    "    <xsl:template match=\"@number[.!=1][.>9]\">\n",
    "        <xsl:text>_{</xsl:text>\n",
    "        <xsl:value-of select=\".\"/>\n",
    "        <xsl:text>}</xsl:text>          \n",
    "    </xsl:template>\n",
    "        \n",
    "    <!-- Do not copy input whitespace to output -->\n",
    "    <xsl:template match=\"text()\" />\n",
    "</xsl:stylesheet>"
   ]
  },
  {
   "cell_type": "code",
   "execution_count": 18,
   "metadata": {},
   "outputs": [],
   "source": [
    "with open(\"xmltotex.xsl\") as xslfile:\n",
    "    transform_xsl = xslfile.read()\n",
    "transform = etree.XSLT(etree.XML(transform_xsl))"
   ]
  },
  {
   "cell_type": "code",
   "execution_count": 19,
   "metadata": {},
   "outputs": [
    {
     "name": "stdout",
     "output_type": "stream",
     "text": [
      "C_6H_{12}O_6 + 6O_2 \\rightarrow 6CO_2 + 6H_2O\\\\\n",
      "2H_2 + O_2 \\rightarrow 2H_2O\\\\\n",
      "\n",
      "\n"
     ]
    }
   ],
   "source": [
    "print(str(transform(tree)))"
   ]
  },
  {
   "cell_type": "code",
   "execution_count": 20,
   "metadata": {},
   "outputs": [
    {
     "data": {
      "text/latex": [
       "$\\displaystyle C_6H_{12}O_6 + 6O_2 \\rightarrow 6CO_2 + 6H_2O\\\\\n",
       "2H_2 + O_2 \\rightarrow 2H_2O\\\\\n",
       "\n",
       "$"
      ],
      "text/plain": [
       "<IPython.core.display.Math object>"
      ]
     },
     "metadata": {},
     "output_type": "display_data"
    }
   ],
   "source": [
    "display(Math(str(transform(tree))))"
   ]
  },
  {
   "cell_type": "markdown",
   "metadata": {},
   "source": [
    "## Validating XML : Schema"
   ]
  },
  {
   "cell_type": "markdown",
   "metadata": {},
   "source": [
    "A way to validate and get more comfortable that what we are doing with XML is correct and more understandable if something is wrong with your xml."
   ]
  },
  {
   "cell_type": "markdown",
   "metadata": {},
   "source": [
    "XML Schema is a way to define how an XML file is allowed to be: which attributes and tags should exist where.\n",
    "    \n",
    "You should always define one of these when using an XML file format."
   ]
  },
  {
   "cell_type": "code",
   "execution_count": 21,
   "metadata": {},
   "outputs": [
    {
     "name": "stdout",
     "output_type": "stream",
     "text": [
      "Writing reactions.xsd\n"
     ]
    }
   ],
   "source": [
    "%%writefile reactions.xsd\n",
    "\n",
    "<xs:schema xmlns:xs=\"http://www.w3.org/2001/XMLSchema\">\n",
    "\n",
    "<xs:element name=\"atom\">\n",
    "    <xs:complexType>\n",
    "        <xs:attribute name=\"symbol\" type=\"xs:string\"/>\n",
    "        <xs:attribute name=\"number\" type=\"xs:integer\"/>\n",
    "    </xs:complexType>\n",
    "</xs:element>\n",
    "    \n",
    "<xs:element name=\"molecule\">\n",
    "    <xs:complexType>\n",
    "        <xs:sequence>\n",
    "            <xs:element ref=\"atom\" maxOccurs=\"unbounded\"/>\n",
    "        </xs:sequence>\n",
    "        <xs:attribute name=\"stoichiometry\" type=\"xs:integer\"/>\n",
    "    </xs:complexType>\n",
    "</xs:element>\n",
    "    \n",
    "<xs:element name=\"reaction\">\n",
    "    <xs:complexType>\n",
    "        <xs:sequence>\n",
    "            <xs:element name=\"reactants\">\n",
    "                <xs:complexType>\n",
    "                    <xs:sequence>\n",
    "                        <xs:element ref=\"molecule\" maxOccurs=\"unbounded\"/>\n",
    "                    </xs:sequence>\n",
    "                </xs:complexType>\n",
    "            </xs:element>\n",
    "            <xs:element name=\"products\">\n",
    "                <xs:complexType>\n",
    "                    <xs:sequence>\n",
    "                        <xs:element ref=\"molecule\" maxOccurs=\"unbounded\"/>\n",
    "                    </xs:sequence>\n",
    "                </xs:complexType>\n",
    "            </xs:element>\n",
    "        </xs:sequence>\n",
    "    </xs:complexType>\n",
    "</xs:element>\n",
    "\n",
    "<xs:element name=\"system\">\n",
    "    <xs:complexType>\n",
    "        <xs:sequence>\n",
    "            <xs:element ref=\"reaction\" maxOccurs=\"unbounded\"/>\n",
    "        </xs:sequence>\n",
    "    </xs:complexType>\n",
    "</xs:element>\n",
    "    \n",
    "</xs:schema>"
   ]
  },
  {
   "cell_type": "code",
   "execution_count": 22,
   "metadata": {},
   "outputs": [],
   "source": [
    "with open(\"reactions.xsd\") as xsdfile:\n",
    "    schema_xsd = xsdfile.read()\n",
    "schema = etree.XMLSchema(etree.XML(schema_xsd))"
   ]
  },
  {
   "cell_type": "code",
   "execution_count": 23,
   "metadata": {},
   "outputs": [],
   "source": [
    "parser = etree.XMLParser(schema=schema)"
   ]
  },
  {
   "cell_type": "code",
   "execution_count": 24,
   "metadata": {},
   "outputs": [
    {
     "data": {
      "text/plain": [
       "['C', 'H', 'O', 'O', 'C', 'O', 'H', 'O', 'H', 'O', 'H', 'O']"
      ]
     },
     "execution_count": 24,
     "metadata": {},
     "output_type": "execute_result"
    }
   ],
   "source": [
    "with open(\"system.xml\") as xmlfile:\n",
    "    tree = etree.parse(xmlfile, parser)\n",
    "# For all atoms return their symbol attribute\n",
    "tree.xpath(\"//atom/@symbol\")"
   ]
  },
  {
   "cell_type": "markdown",
   "metadata": {},
   "source": [
    "Compare parsing something that is not valid under the schema:"
   ]
  },
  {
   "cell_type": "code",
   "execution_count": 25,
   "metadata": {},
   "outputs": [
    {
     "name": "stdout",
     "output_type": "stream",
     "text": [
      "Writing invalid_system.xml\n"
     ]
    }
   ],
   "source": [
    "%%writefile invalid_system.xml\n",
    "\n",
    "<system>\n",
    "    <reaction>\n",
    "        <reactants>\n",
    "            <molecule stoichiometry=\"two\">\n",
    "                <atom symbol=\"H\" number=\"2\"/>\n",
    "            </molecule>\n",
    "            <molecule stoichiometry=\"1\">\n",
    "                <atom symbol=\"O\" number=\"2\"/>\n",
    "            </molecule>\n",
    "        </reactants>\n",
    "        <products>\n",
    "            <molecule stoichiometry=\"2\">\n",
    "                <atom symbol=\"H\" number=\"2\"/>\n",
    "                <atom symbol=\"O\" number=\"1\"/>\n",
    "            </molecule>\n",
    "        </products>\n",
    "    </reaction>\n",
    "</system>"
   ]
  },
  {
   "cell_type": "code",
   "execution_count": 26,
   "metadata": {},
   "outputs": [
    {
     "name": "stdout",
     "output_type": "stream",
     "text": [
      "Element 'molecule', attribute 'stoichiometry': 'two' is not a valid value of the atomic type 'xs:integer'. (<string>, line 0)\n"
     ]
    }
   ],
   "source": [
    "try:\n",
    "    with open(\"invalid_system.xml\") as xmlfile:\n",
    "        tree = etree.parse(xmlfile, parser)\n",
    "    tree.xpath(\"//element//@symbol\")\n",
    "except etree.XMLSyntaxError as e:\n",
    "    print(e)"
   ]
  },
  {
   "cell_type": "markdown",
   "metadata": {},
   "source": [
    "This shows us that the validation has failed and why."
   ]
  }
 ],
 "metadata": {
  "jekyll": {
   "display_name": "Markup languages"
  },
  "kernelspec": {
   "display_name": "Python 3 (ipykernel)",
   "language": "python",
   "name": "python3"
  },
  "language_info": {
   "codemirror_mode": {
    "name": "ipython",
    "version": 3
   },
   "file_extension": ".py",
   "mimetype": "text/x-python",
   "name": "python",
   "nbconvert_exporter": "python",
   "pygments_lexer": "ipython3",
   "version": "3.9.7"
  }
 },
 "nbformat": 4,
 "nbformat_minor": 1
}
